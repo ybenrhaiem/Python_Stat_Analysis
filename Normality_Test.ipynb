{
 "cells": [
  {
   "cell_type": "code",
   "execution_count": 1,
   "metadata": {},
   "outputs": [],
   "source": [
    "import numpy as np\n"
   ]
  },
  {
   "cell_type": "code",
   "execution_count": 3,
   "metadata": {},
   "outputs": [
    {
     "name": "stdout",
     "output_type": "stream",
     "text": [
      "Shapiro-Wilk Test: Statistics=0.9569891591491415, p-value=0.7868775738883076\n",
      "Sample looks Gaussian ( H0)\n"
     ]
    }
   ],
   "source": [
    "#Shapiro-Wilk Test : \n",
    "from scipy.stats import shapiro\n",
    "\n",
    "# Example data\n",
    "data = [2.3, 1.9, 2.1, 2.5, 2.0]\n",
    "\n",
    "# Perform Shapiro-Wilk test\n",
    "stat, p_value = shapiro(data)\n",
    "print(f\"Shapiro-Wilk Test: Statistics={stat}, p-value={p_value}\")\n",
    "\n",
    "if p_value > 0.05:\n",
    "    print(\"Sample looks Gaussian ( H0)\")\n",
    "else:\n",
    "    print(\"Sample does not look Gaussian (H1)\")"
   ]
  },
  {
   "cell_type": "code",
   "execution_count": 10,
   "metadata": {},
   "outputs": [
    {
     "name": "stdout",
     "output_type": "stream",
     "text": [
      "0.5802490192919052\n",
      "Sample looks Gaussian (H0)\n"
     ]
    },
    {
     "name": "stderr",
     "output_type": "stream",
     "text": [
      "c:\\Users\\Asus\\anaconda3\\Lib\\site-packages\\scipy\\stats\\_axis_nan_policy.py:531: UserWarning: kurtosistest only valid for n>=20 ... continuing anyway, n=12\n",
      "  res = hypotest_fun_out(*samples, **kwds)\n"
     ]
    }
   ],
   "source": [
    "#D'Agostino and Pearson's Test : (skewness and kurtosis)\n",
    "from scipy.stats import normaltest\n",
    "\n",
    "# Example data\n",
    "data = [2.3, 1.9, 2.1, 2.5, 2.0,1.0,2.8,3.1,2.1, 2.5, 2.0,1]\n",
    "\n",
    "# Perform D'Agostino and Pearson's test\n",
    "stat, p_value = normaltest(data)\n",
    "print(p_value)\n",
    "if p_value > 0.05:\n",
    "    print(\"Sample looks Gaussian (H0)\")\n",
    "else:\n",
    "    print(\"Sample does not look Gaussian (H1)\")\n",
    "#  UserWarning: kurtosistest only valid for n>=20 ..."
   ]
  },
  {
   "cell_type": "code",
   "execution_count": 11,
   "metadata": {},
   "outputs": [
    {
     "name": "stdout",
     "output_type": "stream",
     "text": [
      "Anderson-Darling Test: Statistic=0.2028285244140129\n",
      "At 15.0% significance level, sample looks Gaussian (fail to reject H0)\n",
      "At 10.0% significance level, sample looks Gaussian (fail to reject H0)\n",
      "At 5.0% significance level, sample looks Gaussian (fail to reject H0)\n",
      "At 2.5% significance level, sample looks Gaussian (fail to reject H0)\n",
      "At 1.0% significance level, sample looks Gaussian (fail to reject H0)\n"
     ]
    }
   ],
   "source": [
    "#Anderson-Darling Test : This test checks how well the data fits a specific distribution : \n",
    "from scipy.stats import anderson\n",
    "\n",
    "# Example data\n",
    "data = [2.3, 1.9, 2.1, 2.5, 2.0]\n",
    "\n",
    "# Perform Anderson-Darling test\n",
    "result = anderson(data, dist='norm')\n",
    "print(f\"Anderson-Darling Test: Statistic={result.statistic}\")\n",
    "\n",
    "for i in range(len(result.critical_values)):\n",
    "    sl, cv = result.significance_level[i], result.critical_values[i]\n",
    "    if result.statistic < cv:\n",
    "        print(f\"At {sl}% significance level, sample looks Gaussian (fail to reject H0)\")\n",
    "    else:\n",
    "        print(f\"At {sl}% significance level, sample does not look Gaussian (reject H0)\")"
   ]
  }
 ],
 "metadata": {
  "kernelspec": {
   "display_name": "base",
   "language": "python",
   "name": "python3"
  },
  "language_info": {
   "codemirror_mode": {
    "name": "ipython",
    "version": 3
   },
   "file_extension": ".py",
   "mimetype": "text/x-python",
   "name": "python",
   "nbconvert_exporter": "python",
   "pygments_lexer": "ipython3",
   "version": "3.12.4"
  }
 },
 "nbformat": 4,
 "nbformat_minor": 2
}
