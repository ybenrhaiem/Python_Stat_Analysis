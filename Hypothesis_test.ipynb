{
 "cells": [
  {
   "cell_type": "code",
   "execution_count": 1,
   "metadata": {},
   "outputs": [
    {
     "ename": "ModuleNotFoundError",
     "evalue": "No module named 'pandas'",
     "output_type": "error",
     "traceback": [
      "\u001b[1;31m---------------------------------------------------------------------------\u001b[0m",
      "\u001b[1;31mModuleNotFoundError\u001b[0m                       Traceback (most recent call last)",
      "Cell \u001b[1;32mIn[1], line 1\u001b[0m\n\u001b[1;32m----> 1\u001b[0m \u001b[38;5;28;01mimport\u001b[39;00m \u001b[38;5;21;01mpandas\u001b[39;00m \u001b[38;5;28;01mas\u001b[39;00m \u001b[38;5;21;01mpd\u001b[39;00m\n\u001b[0;32m      2\u001b[0m \u001b[38;5;28;01mimport\u001b[39;00m \u001b[38;5;21;01mnumpy\u001b[39;00m \u001b[38;5;28;01mas\u001b[39;00m \u001b[38;5;21;01mnp\u001b[39;00m\n",
      "\u001b[1;31mModuleNotFoundError\u001b[0m: No module named 'pandas'"
     ]
    }
   ],
   "source": [
    "import pandas as pd\n",
    "import numpy as np\n"
   ]
  },
  {
   "cell_type": "code",
   "execution_count": 4,
   "metadata": {},
   "outputs": [
    {
     "data": {
      "text/plain": [
       "TtestResult(statistic=1.4855627054164122, pvalue=0.21157899460007457, df=4)"
      ]
     },
     "execution_count": 4,
     "metadata": {},
     "output_type": "execute_result"
    }
   ],
   "source": [
    "#One-sample t-test : Tests if the µ is = or not \n",
    "from scipy.stats import ttest_1samp\n",
    "# Example\n",
    "data = [2.3, 1.9, 2.1, 2.5, 2.0]\n",
    "result = ttest_1samp(data, popmean=2.0)\n",
    "result\n",
    "# p value > 5 % so H0 is the right one "
   ]
  },
  {
   "cell_type": "code",
   "execution_count": 5,
   "metadata": {},
   "outputs": [
    {
     "data": {
      "text/plain": [
       "TtestResult(statistic=2.7941418925427954, pvalue=0.023408312352151718, df=8.0)"
      ]
     },
     "execution_count": 5,
     "metadata": {},
     "output_type": "execute_result"
    }
   ],
   "source": [
    "#Two-sample t-test (##independent samples###) : Tests if  µ1 - µ2 of two independent samples are equal or not \n",
    "from scipy.stats import ttest_ind\n",
    "\n",
    "# Example\n",
    "data1 = [2.3, 1.9, 2.1, 2.5, 2.0]\n",
    "data2 = [1.8, 1.6, 1.9, 2.0, 1.7]\n",
    "result = ttest_ind(data1, data2)\n",
    "result\n",
    "# p value <5% so H1 is the right one there is a difference in the mean two independent sample"
   ]
  },
  {
   "cell_type": "code",
   "execution_count": 6,
   "metadata": {},
   "outputs": [
    {
     "data": {
      "text/plain": [
       "TtestResult(statistic=0.6666666666666652, pvalue=0.541469739275586, df=4)"
      ]
     },
     "execution_count": 6,
     "metadata": {},
     "output_type": "execute_result"
    }
   ],
   "source": [
    "# Paired t-test : Tests if µ1 - µ2  of two ###related### samples are equal\n",
    "from scipy.stats import ttest_rel\n",
    "\n",
    "# Example\n",
    "data1 = [2.3, 1.9, 2.1, 2.5, 2.0]\n",
    "data2 = [2.1, 1.8, 2.2, 2.4, 2.1]\n",
    "result = ttest_rel(data1, data2)\n",
    "result\n",
    "# p value >5% so there is no diff between the means (H0) "
   ]
  },
  {
   "cell_type": "code",
   "execution_count": 7,
   "metadata": {},
   "outputs": [
    {
     "data": {
      "text/plain": [
       "F_onewayResult(statistic=28.500000000000004, pvalue=2.76689661383396e-05)"
      ]
     },
     "execution_count": 7,
     "metadata": {},
     "output_type": "execute_result"
    }
   ],
   "source": [
    "#One-way ANOVA : Tests if µ1 - µ2 - µ3 of ###independent### samples are equal or not \n",
    "from scipy.stats import f_oneway\n",
    "\n",
    "# Example\n",
    "data1 = [2.3, 1.9, 2.1, 2.5, 2.0]\n",
    "data2 = [1.8, 1.6, 1.9, 2.0, 1.7]\n",
    "data3 = [2.5, 2.7, 2.8, 2.9, 2.6]\n",
    "result = f_oneway(data1, data2, data3)\n",
    "result\n",
    "# p value <5% so H1 is the right one which means there is a diff between the groups"
   ]
  },
  {
   "cell_type": "code",
   "execution_count": 8,
   "metadata": {},
   "outputs": [
    {
     "name": "stdout",
     "output_type": "stream",
     "text": [
      "Chi2ContingencyResult(statistic=0.27157465150403504, pvalue=0.873028283380073, dof=2, expected_freq=array([[10.43478261, 18.91304348, 30.65217391],\n",
      "       [ 5.56521739, 10.08695652, 16.34782609]]))\n"
     ]
    }
   ],
   "source": [
    "#Chi-square test : Tests if the independance  between two categorical variables\n",
    "from scipy.stats import chi2_contingency\n",
    "\n",
    "# Example\n",
    "table = [[10, 20, 30], [6, 9, 17]]\n",
    "result = chi2_contingency(table)\n",
    "result\n",
    "# p value > 5% : there is no indep"
   ]
  },
  {
   "cell_type": "code",
   "execution_count": 9,
   "metadata": {},
   "outputs": [
    {
     "data": {
      "text/plain": [
       "MannwhitneyuResult(statistic=23.0, pvalue=0.0355788332395941)"
      ]
     },
     "execution_count": 9,
     "metadata": {},
     "output_type": "execute_result"
    }
   ],
   "source": [
    "# Mann-Whitney U test : Tests if the distributions of two independent samples are equal ###(non-parametric)###\n",
    "from scipy.stats import mannwhitneyu\n",
    "\n",
    "# Example\n",
    "data1 = [2.3, 1.9, 2.1, 2.5, 2.0]\n",
    "data2 = [1.8, 1.6, 1.9, 2.0, 1.7]\n",
    "result = mannwhitneyu(data1, data2)\n",
    "result\n",
    "# p value < 5 % so H1 : there is indep"
   ]
  },
  {
   "cell_type": "code",
   "execution_count": 10,
   "metadata": {},
   "outputs": [
    {
     "data": {
      "text/plain": [
       "WilcoxonResult(statistic=6.0, pvalue=0.8125)"
      ]
     },
     "execution_count": 10,
     "metadata": {},
     "output_type": "execute_result"
    }
   ],
   "source": [
    "#Wilcoxon signed-rank test : Tests if the distributions of two ###related### samples are = (non-parametric)\n",
    "from scipy.stats import wilcoxon\n",
    "\n",
    "# Example\n",
    "data1 = [2.3, 1.9, 2.1, 2.5, 2.0]\n",
    "data2 = [2.1, 1.8, 2.2, 2.4, 2.1]\n",
    "result = wilcoxon(data1, data2)\n",
    "result\n",
    "# there are equal : H0"
   ]
  },
  {
   "cell_type": "code",
   "execution_count": 11,
   "metadata": {},
   "outputs": [
    {
     "data": {
      "text/plain": [
       "KruskalResult(statistic=11.375942549371631, pvalue=0.0033864561946308036)"
      ]
     },
     "execution_count": 11,
     "metadata": {},
     "output_type": "execute_result"
    }
   ],
   "source": [
    "#Kruskal-Wallis H test : Tests if the distributions of 3 or more ###independent### samples are equal (non-parametric)\n",
    "from scipy.stats import kruskal\n",
    "\n",
    "# Example\n",
    "data1 = [2.3, 1.9, 2.1, 2.5, 2.0]\n",
    "data2 = [1.8, 1.6, 1.9, 2.0, 1.7]\n",
    "data3 = [2.5, 2.7, 2.8, 2.9, 2.6]\n",
    "result = kruskal(data1, data2, data3)\n",
    "result\n",
    "#there is a diff H1"
   ]
  },
  {
   "cell_type": "code",
   "execution_count": 2,
   "metadata": {},
   "outputs": [
    {
     "ename": "ModuleNotFoundError",
     "evalue": "No module named 'scipy'",
     "output_type": "error",
     "traceback": [
      "\u001b[1;31m---------------------------------------------------------------------------\u001b[0m",
      "\u001b[1;31mModuleNotFoundError\u001b[0m                       Traceback (most recent call last)",
      "Cell \u001b[1;32mIn[2], line 2\u001b[0m\n\u001b[0;32m      1\u001b[0m \u001b[38;5;66;03m#Levene's test : Tests if two or more samples have equal variances Sigma \u001b[39;00m\n\u001b[1;32m----> 2\u001b[0m \u001b[38;5;28;01mfrom\u001b[39;00m \u001b[38;5;21;01mscipy\u001b[39;00m\u001b[38;5;21;01m.\u001b[39;00m\u001b[38;5;21;01mstats\u001b[39;00m \u001b[38;5;28;01mimport\u001b[39;00m levene\n\u001b[0;32m      4\u001b[0m \u001b[38;5;66;03m# Example\u001b[39;00m\n\u001b[0;32m      5\u001b[0m data1 \u001b[38;5;241m=\u001b[39m [\u001b[38;5;241m2.3\u001b[39m, \u001b[38;5;241m1.9\u001b[39m, \u001b[38;5;241m2.1\u001b[39m, \u001b[38;5;241m2.5\u001b[39m, \u001b[38;5;241m2.0\u001b[39m]\n",
      "\u001b[1;31mModuleNotFoundError\u001b[0m: No module named 'scipy'"
     ]
    }
   ],
   "source": [
    "#Levene's test : Tests if two or more samples have equal variances Sigma \n",
    "from scipy.stats import levene\n",
    "\n",
    "# Example\n",
    "data1 = [2.3, 1.9, 2.1, 2.5, 2.0]\n",
    "data2 = [1.8, 1.6, 1.9, 2.0, 1.7]\n",
    "result = levene(data1, data2)\n",
    "print(result)\n",
    "# H0 same variance"
   ]
  }
 ],
 "metadata": {
  "kernelspec": {
   "display_name": "Python 3",
   "language": "python",
   "name": "python3"
  },
  "language_info": {
   "codemirror_mode": {
    "name": "ipython",
    "version": 3
   },
   "file_extension": ".py",
   "mimetype": "text/x-python",
   "name": "python",
   "nbconvert_exporter": "python",
   "pygments_lexer": "ipython3",
   "version": "3.12.4"
  }
 },
 "nbformat": 4,
 "nbformat_minor": 2
}
